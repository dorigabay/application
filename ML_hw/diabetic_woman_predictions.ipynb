{
 "cells": [
  {
   "cell_type": "markdown",
   "id": "6eb2183d",
   "metadata": {},
   "source": [
    "# Python advanced course - hw in ML\n",
    "#### Dor Gabay"
   ]
  },
  {
   "cell_type": "code",
   "execution_count": null,
   "id": "d78c0feb",
   "metadata": {},
   "outputs": [],
   "source": [
    "import sklearn\n",
    "import numpy as np\n",
    "import pandas as pd\n",
    "from sklearn.model_selection import train_test_split\n",
    "from sklearn.linear_model import LinearRegression\n",
    "from sklearn.feature_selection import f_regression, VarianceThreshold\n"
   ]
  },
  {
   "cell_type": "code",
   "execution_count": null,
   "id": "548890a6",
   "metadata": {},
   "outputs": [],
   "source": [
    "diabiteies_data = pd.read_csv(\"diabetes2.csv\")\n",
    "diabiteies_data.head()"
   ]
  },
  {
   "cell_type": "code",
   "execution_count": null,
   "id": "78ef1fe5",
   "metadata": {},
   "outputs": [],
   "source": [
    "data = np.array(diabiteies_data)\n",
    "diabitic_data = data[data[:,-1]==1,:-1] #having only diabetic\n",
    "diabitic_data = diabitic_data[:,:-1] #droping Outcome\n",
    "print(data)"
   ]
  },
  {
   "cell_type": "code",
   "execution_count": null,
   "id": "7f7b0a32",
   "metadata": {},
   "outputs": [],
   "source": [
    "print(\"All Data:\\n\")\n",
    "for col,col_name in zip(range(data.shape[1]),diabiteies_data.columns):\n",
    "    y = data[:,col]\n",
    "    X = np.delete(data,col,1)\n",
    "    X_train, X_test, y_train, y_test = train_test_split(X, y, test_size=0.33, random_state=42)\n",
    "    predicting = LinearRegression()\n",
    "    predicting.fit(X_train,y_train)\n",
    "    print(\"predicting \"+col_name+\" score:\\n\",predicting.score(X_test,y_test),\"\\n\")"
   ]
  },
  {
   "cell_type": "code",
   "execution_count": null,
   "id": "42ccb430",
   "metadata": {},
   "outputs": [],
   "source": [
    "print(\"Only Diabetic Woman:\\n\")\n",
    "for col,col_name in zip(range(diabitic_data.shape[1]),diabiteies_data.drop(\"Outcome\",axis=1).columns):\n",
    "    y = diabitic_data[:,col]\n",
    "    X = np.delete(diabitic_data,col,1)\n",
    "    X_train, X_test, y_train, y_test = train_test_split(X, y, test_size=0.33, random_state=42)\n",
    "    predicting = LinearRegression()\n",
    "    predicting.fit(X_train,y_train)\n",
    "    print(\"predicting \"+col_name+\" score:\\n\",predicting.score(X_test,y_test),\"\\n\")"
   ]
  },
  {
   "cell_type": "code",
   "execution_count": null,
   "id": "2eee9c46",
   "metadata": {},
   "outputs": [],
   "source": [
    "from sklearn.svm import SVC\n",
    "from sklearn.neighbors import KNeighborsClassifier\n",
    "from sklearn.tree import DecisionTreeClassifier"
   ]
  },
  {
   "cell_type": "code",
   "execution_count": null,
   "id": "1faa679b",
   "metadata": {},
   "outputs": [],
   "source": [
    "X = data[:,:-1]\n",
    "y = data[:,-1]\n",
    "X_train, X_test, y_train, y_test = train_test_split(X, y, test_size=0.33, random_state=42)\n",
    "y_train = y_train.astype(int)\n",
    "y_test = y_test.astype(int)\n",
    "linear_classification = SVC()\n",
    "linear_classification.fit(X_train,y_train)\n",
    "print(linear_classification.score(X_test,y_test))\n",
    "KNN = KNeighborsClassifier(53)\n",
    "KNN.fit(X_train,y_train)\n",
    "print(KNN.score(X_test,y_test))\n",
    "desicion_tree = DecisionTreeClassifier(max_depth=5)\n",
    "desicion_tree.fit(X_train,y_train)\n",
    "print(desicion_tree.score(X_test,y_test))"
   ]
  },
  {
   "cell_type": "code",
   "execution_count": null,
   "id": "c3998df9",
   "metadata": {},
   "outputs": [],
   "source": [
    "def find_best_K(X_train, X_test, y_train, y_test):\n",
    "    best_score = {}\n",
    "    for i in range(1,200):\n",
    "        KNN = KNeighborsClassifier(i)\n",
    "        KNN.fit(X_train,y_train)\n",
    "        score= KNN.score(X_test,y_test)\n",
    "        best_score[i]=score\n",
    "    print(max(best_score, key=best_score.get))"
   ]
  },
  {
   "cell_type": "code",
   "execution_count": null,
   "id": "b940d353",
   "metadata": {},
   "outputs": [],
   "source": [
    "find_best_K(X_train, X_test, y_train, y_test)"
   ]
  },
  {
   "cell_type": "code",
   "execution_count": null,
   "id": "220936b2",
   "metadata": {},
   "outputs": [],
   "source": [
    "def find_best_max_depth(X_train, X_test, y_train, y_test):\n",
    "    best_score = {}\n",
    "    for i in range(1,200):\n",
    "        desicion_tree = DecisionTreeClassifier(max_depth=i)\n",
    "        desicion_tree.fit(X_train,y_train)\n",
    "        score=desicion_tree.score(X_test,y_test)\n",
    "        best_score[i]=score\n",
    "    print(max(best_score, key=best_score.get))"
   ]
  },
  {
   "cell_type": "code",
   "execution_count": null,
   "id": "5bce7787",
   "metadata": {},
   "outputs": [],
   "source": [
    "find_best_max_depth(X_train, X_test, y_train, y_test)"
   ]
  }
 ],
 "metadata": {
  "kernelspec": {
   "display_name": "Python 3",
   "language": "python",
   "name": "python3"
  },
  "language_info": {
   "codemirror_mode": {
    "name": "ipython",
    "version": 3
   },
   "file_extension": ".py",
   "mimetype": "text/x-python",
   "name": "python",
   "nbconvert_exporter": "python",
   "pygments_lexer": "ipython3",
   "version": "3.8.8"
  }
 },
 "nbformat": 4,
 "nbformat_minor": 5
}
